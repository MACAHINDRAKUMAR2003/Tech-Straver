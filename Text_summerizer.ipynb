{
  "nbformat": 4,
  "nbformat_minor": 0,
  "metadata": {
    "colab": {
      "provenance": []
    },
    "kernelspec": {
      "name": "python3",
      "display_name": "Python 3"
    },
    "language_info": {
      "name": "python"
    }
  },
  "cells": [
    {
      "cell_type": "code",
      "execution_count": 1,
      "metadata": {
        "id": "rShFNdiaOc1p"
      },
      "outputs": [],
      "source": [
        "from nltk.corpus import stopwords\n",
        "from nltk.tokenize import word_tokenize,sent_tokenize"
      ]
    },
    {
      "cell_type": "code",
      "source": [
        "import nltk\n",
        "nltk.download('stopwords')\n",
        "nltk.download('punkt')"
      ],
      "metadata": {
        "colab": {
          "base_uri": "https://localhost:8080/"
        },
        "id": "2tf_WlRue4qT",
        "outputId": "395a8267-32c6-4b20-e772-1e2dadc237db"
      },
      "execution_count": 2,
      "outputs": [
        {
          "output_type": "stream",
          "name": "stderr",
          "text": [
            "[nltk_data] Downloading package stopwords to /root/nltk_data...\n",
            "[nltk_data]   Unzipping corpora/stopwords.zip.\n",
            "[nltk_data] Downloading package punkt to /root/nltk_data...\n",
            "[nltk_data]   Unzipping tokenizers/punkt.zip.\n"
          ]
        },
        {
          "output_type": "execute_result",
          "data": {
            "text/plain": [
              "True"
            ]
          },
          "metadata": {},
          "execution_count": 2
        }
      ]
    },
    {
      "cell_type": "code",
      "source": [
        "text=\"\"\"Rohit Gurunath Sharma (born 30 April 1987) is an Indian international cricketer who currently captains the India national cricket team across all formats. He is a right-handed batsman. Considered one of the best batsmen of his generation and one of the greatest opening batters of all time,[4] Sharma is known for his timing, elegance, six-hitting abilities and leadership skills. Sharma holds several batting records which famously include most sixes in international cricket,[a] most double centuries in ODI cricket (3), most centuries at Cricket World Cups (7) and joint most hundreds in Twenty20 Internationals (5). Rohit Sharma is the first player to score 5 T20I centuries.[6] He plays for Mumbai Indians in IPL and for Mumbai in domestic cricket.\n",
        "\n",
        "Sharma formerly captained Mumbai Indians and the team has won 5 titles in 2013, 2015, 2017, 2019 and 2020 under his leadership, making him the most successful captain in IPL history, sharing this record with MS Dhoni (5 title wins in IPL). With India, Sharma was a member of the team that won the 2007 T20 World Cup, and the 2013 ICC Champions Trophy, where he played in the finals of both tournaments. Rohit is one of four players to have played in every edition of the ICC T20 World Cup, from the inaugural edition in 2007 to the latest one in 2022.\n",
        "\n",
        "Sharma currently holds the world record for the highest individual score (264) in a One Day International (ODI) match and is the only player to have scored three double-centuries in ODIs and also holds the record for scoring most hundreds (five) in a single Cricket World Cup, for which he won the ICC Men's ODI Cricketer of the Year award in 2019. Sharma has received two national honours, the Arjuna Award in 2015 and the prestigious Major Dhyan Chand Khel Ratna Award in 2020 by the Government of India. Under his captaincy, India won the 2018 Asia Cup and the 2023 Asia Cup, the seventh and eighth time the country won the title, both in ODI format as well as the 2018 Nidahas Trophy, their second overall and first in T20I format.\n",
        "\n",
        "Outside cricket, Sharma is an active supporter of animal welfare campaigns. He is the official Rhino Ambassador for WWF-India and is a member of People for the Ethical Treatment of Animals (PETA). He has worked with PETA in its campaign to raise awareness of the plight of homeless cats and dogs in India. \"\"\"\n",
        "\n",
        ""
      ],
      "metadata": {
        "id": "sEtVUQSLe_s0"
      },
      "execution_count": 3,
      "outputs": []
    },
    {
      "cell_type": "code",
      "source": [
        "stopwords=set(stopwords.words(\"english\"))\n",
        "print(stopwords)"
      ],
      "metadata": {
        "colab": {
          "base_uri": "https://localhost:8080/"
        },
        "id": "nD8dZ57UfJ9U",
        "outputId": "379e31c5-f99f-405f-bfae-66713480e994"
      },
      "execution_count": 4,
      "outputs": [
        {
          "output_type": "stream",
          "name": "stdout",
          "text": [
            "{'ve', 'all', 'wouldn', 'a', 'because', \"wasn't\", 'under', 'mightn', 'same', 'than', \"that'll\", 'the', 'ma', 'doesn', 'them', 'there', \"should've\", 'ourselves', 'who', 'of', 'if', 'been', 'me', 'your', 'mustn', 'how', 'into', 'this', 'too', 'am', 'each', 'itself', \"needn't\", 'shouldn', 'hasn', 'some', 'he', 'down', 'does', 'm', 'through', 'haven', 'yourself', 'during', \"isn't\", 'being', 'why', 'now', \"mustn't\", \"you'll\", 'theirs', 'her', 'as', 'no', 'off', 'up', 'out', 'yourselves', 'both', 'we', 'be', 'ours', 'those', \"it's\", 'yours', 're', 'again', 'ain', \"you've\", \"hadn't\", 'won', 'his', 'whom', \"she's\", 'until', 'isn', \"hasn't\", 'but', 'were', 'to', 'needn', 'weren', 'such', \"wouldn't\", 'not', 'for', 'and', 'at', \"mightn't\", 'only', 'did', 'i', 'you', \"you're\", 'wasn', 'once', 'what', 'y', 'here', 'their', 'has', 'above', 'couldn', \"shouldn't\", 'other', 'she', 'themselves', 'between', 'further', \"don't\", \"shan't\", 'o', \"didn't\", 'more', 'have', 's', 'when', 'can', \"aren't\", 'very', 'its', 'then', 'our', 'was', 'below', 'where', 'herself', 'after', 'on', 'is', 'should', 'that', 'which', 'an', 'any', 'it', 'about', 'himself', 'these', 'hadn', 'didn', 'do', \"weren't\", 'most', 't', 'hers', 'will', \"you'd\", 'don', 'nor', 'shan', 'doing', 'd', 'by', 'own', 'him', 'while', 'with', 'aren', 'against', 'or', 'before', \"doesn't\", 'll', 'my', 'from', 'over', \"won't\", \"haven't\", 'myself', 'had', 'just', 'having', \"couldn't\", 'few', 'so', 'they', 'in', 'are'}\n"
          ]
        }
      ]
    },
    {
      "cell_type": "code",
      "source": [
        "words=word_tokenize(text)\n",
        "print(words)"
      ],
      "metadata": {
        "colab": {
          "base_uri": "https://localhost:8080/"
        },
        "id": "cJI0MM_7fU3w",
        "outputId": "5c954e8a-680d-4a00-de68-d3fd88a4a46a"
      },
      "execution_count": 5,
      "outputs": [
        {
          "output_type": "stream",
          "name": "stdout",
          "text": [
            "['Rohit', 'Gurunath', 'Sharma', '(', 'born', '30', 'April', '1987', ')', 'is', 'an', 'Indian', 'international', 'cricketer', 'who', 'currently', 'captains', 'the', 'India', 'national', 'cricket', 'team', 'across', 'all', 'formats', '.', 'He', 'is', 'a', 'right-handed', 'batsman', '.', 'Considered', 'one', 'of', 'the', 'best', 'batsmen', 'of', 'his', 'generation', 'and', 'one', 'of', 'the', 'greatest', 'opening', 'batters', 'of', 'all', 'time', ',', '[', '4', ']', 'Sharma', 'is', 'known', 'for', 'his', 'timing', ',', 'elegance', ',', 'six-hitting', 'abilities', 'and', 'leadership', 'skills', '.', 'Sharma', 'holds', 'several', 'batting', 'records', 'which', 'famously', 'include', 'most', 'sixes', 'in', 'international', 'cricket', ',', '[', 'a', ']', 'most', 'double', 'centuries', 'in', 'ODI', 'cricket', '(', '3', ')', ',', 'most', 'centuries', 'at', 'Cricket', 'World', 'Cups', '(', '7', ')', 'and', 'joint', 'most', 'hundreds', 'in', 'Twenty20', 'Internationals', '(', '5', ')', '.', 'Rohit', 'Sharma', 'is', 'the', 'first', 'player', 'to', 'score', '5', 'T20I', 'centuries', '.', '[', '6', ']', 'He', 'plays', 'for', 'Mumbai', 'Indians', 'in', 'IPL', 'and', 'for', 'Mumbai', 'in', 'domestic', 'cricket', '.', 'Sharma', 'formerly', 'captained', 'Mumbai', 'Indians', 'and', 'the', 'team', 'has', 'won', '5', 'titles', 'in', '2013', ',', '2015', ',', '2017', ',', '2019', 'and', '2020', 'under', 'his', 'leadership', ',', 'making', 'him', 'the', 'most', 'successful', 'captain', 'in', 'IPL', 'history', ',', 'sharing', 'this', 'record', 'with', 'MS', 'Dhoni', '(', '5', 'title', 'wins', 'in', 'IPL', ')', '.', 'With', 'India', ',', 'Sharma', 'was', 'a', 'member', 'of', 'the', 'team', 'that', 'won', 'the', '2007', 'T20', 'World', 'Cup', ',', 'and', 'the', '2013', 'ICC', 'Champions', 'Trophy', ',', 'where', 'he', 'played', 'in', 'the', 'finals', 'of', 'both', 'tournaments', '.', 'Rohit', 'is', 'one', 'of', 'four', 'players', 'to', 'have', 'played', 'in', 'every', 'edition', 'of', 'the', 'ICC', 'T20', 'World', 'Cup', ',', 'from', 'the', 'inaugural', 'edition', 'in', '2007', 'to', 'the', 'latest', 'one', 'in', '2022', '.', 'Sharma', 'currently', 'holds', 'the', 'world', 'record', 'for', 'the', 'highest', 'individual', 'score', '(', '264', ')', 'in', 'a', 'One', 'Day', 'International', '(', 'ODI', ')', 'match', 'and', 'is', 'the', 'only', 'player', 'to', 'have', 'scored', 'three', 'double-centuries', 'in', 'ODIs', 'and', 'also', 'holds', 'the', 'record', 'for', 'scoring', 'most', 'hundreds', '(', 'five', ')', 'in', 'a', 'single', 'Cricket', 'World', 'Cup', ',', 'for', 'which', 'he', 'won', 'the', 'ICC', 'Men', \"'s\", 'ODI', 'Cricketer', 'of', 'the', 'Year', 'award', 'in', '2019', '.', 'Sharma', 'has', 'received', 'two', 'national', 'honours', ',', 'the', 'Arjuna', 'Award', 'in', '2015', 'and', 'the', 'prestigious', 'Major', 'Dhyan', 'Chand', 'Khel', 'Ratna', 'Award', 'in', '2020', 'by', 'the', 'Government', 'of', 'India', '.', 'Under', 'his', 'captaincy', ',', 'India', 'won', 'the', '2018', 'Asia', 'Cup', 'and', 'the', '2023', 'Asia', 'Cup', ',', 'the', 'seventh', 'and', 'eighth', 'time', 'the', 'country', 'won', 'the', 'title', ',', 'both', 'in', 'ODI', 'format', 'as', 'well', 'as', 'the', '2018', 'Nidahas', 'Trophy', ',', 'their', 'second', 'overall', 'and', 'first', 'in', 'T20I', 'format', '.', 'Outside', 'cricket', ',', 'Sharma', 'is', 'an', 'active', 'supporter', 'of', 'animal', 'welfare', 'campaigns', '.', 'He', 'is', 'the', 'official', 'Rhino', 'Ambassador', 'for', 'WWF-India', 'and', 'is', 'a', 'member', 'of', 'People', 'for', 'the', 'Ethical', 'Treatment', 'of', 'Animals', '(', 'PETA', ')', '.', 'He', 'has', 'worked', 'with', 'PETA', 'in', 'its', 'campaign', 'to', 'raise', 'awareness', 'of', 'the', 'plight', 'of', 'homeless', 'cats', 'and', 'dogs', 'in', 'India', '.']\n"
          ]
        }
      ]
    },
    {
      "cell_type": "code",
      "source": [
        "freqtable=dict()\n",
        "for word in words:\n",
        "  word=word.lower()\n",
        "  if word in stopwords:\n",
        "    continue\n",
        "  if word in freqtable:\n",
        "    freqtable[word]+=1\n",
        "  else:\n",
        "    freqtable[word]=1\n",
        "print(freqtable)"
      ],
      "metadata": {
        "colab": {
          "base_uri": "https://localhost:8080/"
        },
        "id": "hvVIRMwtfl6P",
        "outputId": "efb737e6-6bc8-45f0-ef8d-38f09baecd0e"
      },
      "execution_count": 6,
      "outputs": [
        {
          "output_type": "stream",
          "name": "stdout",
          "text": [
            "{'rohit': 3, 'gurunath': 1, 'sharma': 9, '(': 9, 'born': 1, '30': 1, 'april': 1, '1987': 1, ')': 9, 'indian': 1, 'international': 3, 'cricketer': 2, 'currently': 2, 'captains': 1, 'india': 5, 'national': 2, 'cricket': 7, 'team': 3, 'across': 1, 'formats': 1, '.': 15, 'right-handed': 1, 'batsman': 1, 'considered': 1, 'one': 5, 'best': 1, 'batsmen': 1, 'generation': 1, 'greatest': 1, 'opening': 1, 'batters': 1, 'time': 2, ',': 21, '[': 3, '4': 1, ']': 3, 'known': 1, 'timing': 1, 'elegance': 1, 'six-hitting': 1, 'abilities': 1, 'leadership': 2, 'skills': 1, 'holds': 3, 'several': 1, 'batting': 1, 'records': 1, 'famously': 1, 'include': 1, 'sixes': 1, 'double': 1, 'centuries': 3, 'odi': 4, '3': 1, 'world': 5, 'cups': 1, '7': 1, 'joint': 1, 'hundreds': 2, 'twenty20': 1, 'internationals': 1, '5': 4, 'first': 2, 'player': 2, 'score': 2, 't20i': 2, '6': 1, 'plays': 1, 'mumbai': 3, 'indians': 2, 'ipl': 3, 'domestic': 1, 'formerly': 1, 'captained': 1, 'titles': 1, '2013': 2, '2015': 2, '2017': 1, '2019': 2, '2020': 2, 'making': 1, 'successful': 1, 'captain': 1, 'history': 1, 'sharing': 1, 'record': 3, 'ms': 1, 'dhoni': 1, 'title': 2, 'wins': 1, 'member': 2, '2007': 2, 't20': 2, 'cup': 5, 'icc': 3, 'champions': 1, 'trophy': 2, 'played': 2, 'finals': 1, 'tournaments': 1, 'four': 1, 'players': 1, 'every': 1, 'edition': 2, 'inaugural': 1, 'latest': 1, '2022': 1, 'highest': 1, 'individual': 1, '264': 1, 'day': 1, 'match': 1, 'scored': 1, 'three': 1, 'double-centuries': 1, 'odis': 1, 'also': 1, 'scoring': 1, 'five': 1, 'single': 1, 'men': 1, \"'s\": 1, 'year': 1, 'award': 3, 'received': 1, 'two': 1, 'honours': 1, 'arjuna': 1, 'prestigious': 1, 'major': 1, 'dhyan': 1, 'chand': 1, 'khel': 1, 'ratna': 1, 'government': 1, 'captaincy': 1, '2018': 2, 'asia': 2, '2023': 1, 'seventh': 1, 'eighth': 1, 'country': 1, 'format': 2, 'well': 1, 'nidahas': 1, 'second': 1, 'overall': 1, 'outside': 1, 'active': 1, 'supporter': 1, 'animal': 1, 'welfare': 1, 'campaigns': 1, 'official': 1, 'rhino': 1, 'ambassador': 1, 'wwf-india': 1, 'people': 1, 'ethical': 1, 'treatment': 1, 'animals': 1, 'peta': 2, 'worked': 1, 'campaign': 1, 'raise': 1, 'awareness': 1, 'plight': 1, 'homeless': 1, 'cats': 1, 'dogs': 1}\n"
          ]
        }
      ]
    },
    {
      "cell_type": "code",
      "source": [
        "sentences=sent_tokenize(text)\n",
        "print(sentences)"
      ],
      "metadata": {
        "colab": {
          "base_uri": "https://localhost:8080/"
        },
        "id": "XY2mf3r0fmJz",
        "outputId": "c7216a14-a4f5-4b69-9729-56ef970a9578"
      },
      "execution_count": 7,
      "outputs": [
        {
          "output_type": "stream",
          "name": "stdout",
          "text": [
            "['Rohit Gurunath Sharma (born 30 April 1987) is an Indian international cricketer who currently captains the India national cricket team across all formats.', 'He is a right-handed batsman.', 'Considered one of the best batsmen of his generation and one of the greatest opening batters of all time,[4] Sharma is known for his timing, elegance, six-hitting abilities and leadership skills.', 'Sharma holds several batting records which famously include most sixes in international cricket,[a] most double centuries in ODI cricket (3), most centuries at Cricket World Cups (7) and joint most hundreds in Twenty20 Internationals (5).', 'Rohit Sharma is the first player to score 5 T20I centuries.', '[6] He plays for Mumbai Indians in IPL and for Mumbai in domestic cricket.', 'Sharma formerly captained Mumbai Indians and the team has won 5 titles in 2013, 2015, 2017, 2019 and 2020 under his leadership, making him the most successful captain in IPL history, sharing this record with MS Dhoni (5 title wins in IPL).', 'With India, Sharma was a member of the team that won the 2007 T20 World Cup, and the 2013 ICC Champions Trophy, where he played in the finals of both tournaments.', 'Rohit is one of four players to have played in every edition of the ICC T20 World Cup, from the inaugural edition in 2007 to the latest one in 2022.', \"Sharma currently holds the world record for the highest individual score (264) in a One Day International (ODI) match and is the only player to have scored three double-centuries in ODIs and also holds the record for scoring most hundreds (five) in a single Cricket World Cup, for which he won the ICC Men's ODI Cricketer of the Year award in 2019.\", 'Sharma has received two national honours, the Arjuna Award in 2015 and the prestigious Major Dhyan Chand Khel Ratna Award in 2020 by the Government of India.', 'Under his captaincy, India won the 2018 Asia Cup and the 2023 Asia Cup, the seventh and eighth time the country won the title, both in ODI format as well as the 2018 Nidahas Trophy, their second overall and first in T20I format.', 'Outside cricket, Sharma is an active supporter of animal welfare campaigns.', 'He is the official Rhino Ambassador for WWF-India and is a member of People for the Ethical Treatment of Animals (PETA).', 'He has worked with PETA in its campaign to raise awareness of the plight of homeless cats and dogs in India.']\n"
          ]
        }
      ]
    },
    {
      "cell_type": "code",
      "source": [
        "def getsentencevalue():\n",
        "  sentencevalue=dict()\n",
        "  for sentence in sentences:\n",
        "    for word,freq in freqtable.items():\n",
        "      if word in sentence.lower():\n",
        "        if sentence in sentencevalue:\n",
        "          sentencevalue[sentence]+=freq\n",
        "        else:\n",
        "          sentencevalue[sentence]=freq\n",
        "  return sentencevalue\n",
        "  print(sentencevalue)\n",
        "sentencevalue=getsentencevalue()\n",
        "print(sentencevalue)"
      ],
      "metadata": {
        "colab": {
          "base_uri": "https://localhost:8080/"
        },
        "id": "lktJo-aNfmMI",
        "outputId": "f99b5477-67cf-45f1-ea23-0b5a93e32a63"
      },
      "execution_count": 8,
      "outputs": [
        {
          "output_type": "stream",
          "name": "stdout",
          "text": [
            "{'Rohit Gurunath Sharma (born 30 April 1987) is an Indian international cricketer who currently captains the India national cricket team across all formats.': 83, 'He is a right-handed batsman.': 17, 'Considered one of the best batsmen of his generation and one of the greatest opening batters of all time,[4] Sharma is known for his timing, elegance, six-hitting abilities and leadership skills.': 75, 'Sharma holds several batting records which famously include most sixes in international cricket,[a] most double centuries in ODI cricket (3), most centuries at Cricket World Cups (7) and joint most hundreds in Twenty20 Internationals (5).': 123, 'Rohit Sharma is the first player to score 5 T20I centuries.': 44, '[6] He plays for Mumbai Indians in IPL and for Mumbai in domestic cricket.': 45, 'Sharma formerly captained Mumbai Indians and the team has won 5 titles in 2013, 2015, 2017, 2019 and 2020 under his leadership, making him the most successful captain in IPL history, sharing this record with MS Dhoni (5 title wins in IPL).': 113, 'With India, Sharma was a member of the team that won the 2007 T20 World Cup, and the 2013 ICC Champions Trophy, where he played in the finals of both tournaments.': 84, 'Rohit is one of four players to have played in every edition of the ICC T20 World Cup, from the inaugural edition in 2007 to the latest one in 2022.': 74, \"Sharma currently holds the world record for the highest individual score (264) in a One Day International (ODI) match and is the only player to have scored three double-centuries in ODIs and also holds the record for scoring most hundreds (five) in a single Cricket World Cup, for which he won the ICC Men's ODI Cricketer of the Year award in 2019.\": 140, 'Sharma has received two national honours, the Arjuna Award in 2015 and the prestigious Major Dhyan Chand Khel Ratna Award in 2020 by the Government of India.': 75, 'Under his captaincy, India won the 2018 Asia Cup and the 2023 Asia Cup, the seventh and eighth time the country won the title, both in ODI format as well as the 2018 Nidahas Trophy, their second overall and first in T20I format.': 79, 'Outside cricket, Sharma is an active supporter of animal welfare campaigns.': 59, 'He is the official Rhino Ambassador for WWF-India and is a member of People for the Ethical Treatment of Animals (PETA).': 52, 'He has worked with PETA in its campaign to raise awareness of the plight of homeless cats and dogs in India.': 30}\n"
          ]
        }
      ]
    },
    {
      "cell_type": "code",
      "source": [
        "def getvalue():\n",
        "  sumvalue=0\n",
        "  for sentence in sentencevalue:\n",
        "    sumvalue+=sentencevalue[sentence]\n",
        "  average=int(sumvalue/len(sentencevalue))\n",
        "  return average\n",
        "average=getvalue()\n",
        "print(average)"
      ],
      "metadata": {
        "colab": {
          "base_uri": "https://localhost:8080/"
        },
        "id": "IJb23hwdfmOe",
        "outputId": "4b527cda-70d2-4027-8137-03894746b548"
      },
      "execution_count": 9,
      "outputs": [
        {
          "output_type": "stream",
          "name": "stdout",
          "text": [
            "72\n"
          ]
        }
      ]
    },
    {
      "cell_type": "code",
      "source": [
        "summary=''\n",
        "for sentence in sentences:\n",
        "  if(sentence in sentencevalue and sentencevalue[sentence]>130):\n",
        "    summary+=' '+sentence\n",
        "print(summary)"
      ],
      "metadata": {
        "colab": {
          "base_uri": "https://localhost:8080/"
        },
        "id": "ezR6yUjofmQz",
        "outputId": "8a2debc9-f6f1-4391-f726-d83c46cc2f5c"
      },
      "execution_count": 10,
      "outputs": [
        {
          "output_type": "stream",
          "name": "stdout",
          "text": [
            " Sharma currently holds the world record for the highest individual score (264) in a One Day International (ODI) match and is the only player to have scored three double-centuries in ODIs and also holds the record for scoring most hundreds (five) in a single Cricket World Cup, for which he won the ICC Men's ODI Cricketer of the Year award in 2019.\n"
          ]
        }
      ]
    },
    {
      "cell_type": "code",
      "source": [],
      "metadata": {
        "id": "iTq_0Kf3fmUb"
      },
      "execution_count": null,
      "outputs": []
    }
  ]
}